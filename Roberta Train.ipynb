{
 "cells": [
  {
   "cell_type": "code",
   "execution_count": 1,
   "id": "subject-lying",
   "metadata": {},
   "outputs": [],
   "source": [
    "from pathlib import Path\n",
    "from tokenizers import ByteLevelBPETokenizer\n",
    "import pandas as pd\n",
    "from tokenizers.processors import BertProcessing\n",
    "from tree_sitter import Language, Parser\n",
    "import os\n",
    "from pathlib import Path"
   ]
  },
  {
   "cell_type": "code",
   "execution_count": 2,
   "id": "unlimited-texas",
   "metadata": {},
   "outputs": [],
   "source": [
    "def create_java_only_dataset():\n",
    "    if not os.path.isfile(\"Data/Java_Unified_Data_with_SHA.csv\"):\n",
    "        df = pd.read_csv(\"Data/Unified_Data_with_SHA.csv\")\n",
    "        df2 = df[df[\"language_name\"]=='Java']\n",
    "        df2.reset_index(drop=True,inplace=True)\n",
    "        df2.to_csv(\"Data/Java_Unified_Data_with_SHA.csv\",index=False)\n",
    "create_java_only_dataset()"
   ]
  },
  {
   "cell_type": "code",
   "execution_count": 3,
   "id": "understood-genesis",
   "metadata": {},
   "outputs": [],
   "source": [
    "create_java_only_dataset()"
   ]
  },
  {
   "cell_type": "code",
   "execution_count": 4,
   "id": "civil-client",
   "metadata": {},
   "outputs": [],
   "source": [
    "def get_uuid(text):\n",
    "    return text.split(\"/\")[-1].split(\".\")[0]"
   ]
  },
  {
   "cell_type": "code",
   "execution_count": 5,
   "id": "accompanied-rings",
   "metadata": {},
   "outputs": [],
   "source": [
    "def remove_comments_and_docstrings(source):\n",
    "\n",
    "    def replacer(match):\n",
    "        s = match.group(0)\n",
    "        if s.startswith('/'):\n",
    "            return \" \" # note: a space and not an empty string\n",
    "        else:\n",
    "            return s\n",
    "    pattern = re.compile(\n",
    "        r'//.*?$|/\\*.*?\\*/|\\'(?:\\\\.|[^\\\\\\'])*\\'|\"(?:\\\\.|[^\\\\\"])*\"',\n",
    "        re.DOTALL | re.MULTILINE\n",
    "    )\n",
    "    temp=[]\n",
    "    for x in re.sub(pattern, replacer, source).split('\\n'):\n",
    "        if x.strip()!=\"\":\n",
    "            temp.append(x)\n",
    "    return '\\n'.join(temp)"
   ]
  },
  {
   "cell_type": "code",
   "execution_count": 6,
   "id": "north-parish",
   "metadata": {},
   "outputs": [],
   "source": [
    "def create_report_files():\n",
    "    if not os.path.isdir(\"Data/Report_Files/\"):\n",
    "        Path(\"Data/Report_Files/\").mkdir(parents=True, exist_ok=True)\n",
    "        df = pd.read_csv(\"Data/Java_Unified_Data_with_SHA.csv\")\n",
    "        for item in df.iterrows():\n",
    "            uuid_name = item[1]['before_fix_uuid_file_path'].split(\"/\")[-1].split(\".\")[0]\n",
    "            file = open (\"Data/Report_Files/{}.txt\".format(uuid_name),\"w\")\n",
    "            file.write(item[1]['title'] + \" \" + item[1]['description'])\n",
    "            file.close()\n",
    "create_report_files()"
   ]
  },
  {
   "cell_type": "code",
   "execution_count": 7,
   "id": "domestic-consent",
   "metadata": {},
   "outputs": [],
   "source": [
    "def convert_file_to_ast(file_path, parser):\n",
    "    file = open(file_path,\"r\")\n",
    "    file_content = file.read()\n",
    "    tree = parser.parse(bytes(file_content,\"utf-8\"))\n",
    "    return tree.root_node.sexp()"
   ]
  },
  {
   "cell_type": "code",
   "execution_count": 8,
   "id": "spoken-montgomery",
   "metadata": {},
   "outputs": [],
   "source": [
    "def create_ast_files():\n",
    "    if not os.path.isdir(\"Data/AST_Files/\"):\n",
    "        Path(\"Data/AST_Files/\").mkdir(parents=True, exist_ok=True)\n",
    "        df = pd.read_csv(\"Data/Java_Unified_Data_with_SHA.csv\")\n",
    "        JAVA_LANGUAGE = Language('build/my-languages.so', 'java')\n",
    "        parser = Parser()\n",
    "        parser.set_language(JAVA_LANGUAGE)\n",
    "        for item in df.iterrows():\n",
    "            before_fix_uuid_name = item[1]['before_fix_uuid_file_path'].split(\"/\")[-1].split(\".\")[0]\n",
    "            before_fix_file = open (\"Data/AST_Files/{}.txt\".format(before_fix_uuid_name),\"w\")\n",
    "            before_fix_file.write(convert_file_to_ast(item[1]['before_fix_uuid_file_path'],parser))\n",
    "            before_fix_file.close()\n",
    "            \n",
    "            after_fix_uuid_name = item[1]['after_fix_uuid_file_path'].split(\"/\")[-1].split(\".\")[0]\n",
    "            after_fix_file = open (\"Data/AST_Files/{}.txt\".format(after_fix_uuid_name),\"w\")\n",
    "            after_fix_file.write(convert_file_to_ast(item[1]['after_fix_uuid_file_path'],parser))\n",
    "            after_fix_file.close()\n",
    "create_ast_files()"
   ]
  },
  {
   "cell_type": "code",
   "execution_count": 9,
   "id": "arbitrary-fetish",
   "metadata": {},
   "outputs": [],
   "source": [
    "df = pd.read_csv(\"Data/Java_Train_Data.csv\")"
   ]
  },
  {
   "cell_type": "code",
   "execution_count": 10,
   "id": "chinese-nerve",
   "metadata": {},
   "outputs": [],
   "source": [
    "before_fix_ast_paths = df['before_fix_uuid_file_path'].map(lambda x:\"Data/AST_Files/\" + get_uuid(x) + \".txt\").tolist()\n",
    "after_fix_ast_paths = df['after_fix_uuid_file_path'].map(lambda x:\"Data/AST_Files/\" + get_uuid(x) + \".txt\").tolist()\n",
    "report_files = df['before_fix_uuid_file_path'].map(lambda x:\"Data/Report_Files/\" + get_uuid(x) + \".txt\").tolist()"
   ]
  },
  {
   "cell_type": "code",
   "execution_count": 11,
   "id": "foreign-senegal",
   "metadata": {},
   "outputs": [],
   "source": [
    "all_file_path = before_fix_ast_paths + report_files"
   ]
  },
  {
   "cell_type": "code",
   "execution_count": 12,
   "id": "domestic-algebra",
   "metadata": {},
   "outputs": [],
   "source": [
    "tokenizer = ByteLevelBPETokenizer()\n",
    "tokenizer.train(files=all_file_path, min_frequency=2, special_tokens=[\n",
    "    \"<s>\",\n",
    "    \"<pad>\",\n",
    "    \"</s>\",\n",
    "    \"<unk>\",\n",
    "    \"<mask>\",\n",
    "])"
   ]
  },
  {
   "cell_type": "code",
   "execution_count": 13,
   "id": "worth-pantyhose",
   "metadata": {},
   "outputs": [
    {
     "data": {
      "text/plain": [
       "['././aster-vocab.json', '././aster-merges.txt']"
      ]
     },
     "execution_count": 13,
     "metadata": {},
     "output_type": "execute_result"
    }
   ],
   "source": [
    "tokenizer.save_model(\".\", \"./aster\")"
   ]
  },
  {
   "cell_type": "code",
   "execution_count": 14,
   "id": "described-garden",
   "metadata": {},
   "outputs": [],
   "source": [
    "tokenizer = ByteLevelBPETokenizer(\n",
    "    \"aster-vocab.json\",\n",
    "    \"aster-merges.txt\",\n",
    ")\n",
    "tokenizer._tokenizer.post_processor = BertProcessing(\n",
    "    (\"</s>\", tokenizer.token_to_id(\"</s>\")),\n",
    "    (\"<s>\", tokenizer.token_to_id(\"<s>\")),\n",
    ")\n",
    "tokenizer.enable_truncation(max_length=3000)"
   ]
  },
  {
   "cell_type": "code",
   "execution_count": 15,
   "id": "starting-nevada",
   "metadata": {},
   "outputs": [
    {
     "data": {
      "text/plain": [
       "[1, 1, 1, 1, 1, 1, 1, 1, 1, 1, 1, 1, 1, 1, 1, 1]"
      ]
     },
     "execution_count": 15,
     "metadata": {},
     "output_type": "execute_result"
    }
   ],
   "source": [
    "tokenizer.encode(\"public static void main(){System.out.println(\\\"hello world\\\")}\").attention_mask"
   ]
  }
 ],
 "metadata": {
  "kernelspec": {
   "display_name": "Python 3",
   "language": "python",
   "name": "python3"
  },
  "language_info": {
   "codemirror_mode": {
    "name": "ipython",
    "version": 3
   },
   "file_extension": ".py",
   "mimetype": "text/x-python",
   "name": "python",
   "nbconvert_exporter": "python",
   "pygments_lexer": "ipython3",
   "version": "3.6.9"
  }
 },
 "nbformat": 4,
 "nbformat_minor": 5
}
